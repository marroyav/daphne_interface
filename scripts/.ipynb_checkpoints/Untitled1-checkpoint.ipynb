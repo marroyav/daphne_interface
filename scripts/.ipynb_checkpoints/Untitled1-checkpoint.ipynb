{
 "cells": [
  {
   "cell_type": "code",
   "execution_count": 1,
   "id": "c296be3a-35c1-4b8b-9bd6-be79189c2bb0",
   "metadata": {},
   "outputs": [
    {
     "name": "stdout",
     "output_type": "stream",
     "text": [
      "Hello word\n"
     ]
    }
   ],
   "source": [
    "print(\"Hello word\")\n"
   ]
  },
  {
   "cell_type": "code",
   "execution_count": 3,
   "id": "804d119c-3aba-4b7e-809c-7e54392df328",
   "metadata": {},
   "outputs": [
    {
     "name": "stdout",
     "output_type": "stream",
     "text": [
      "/nfs/home/aminotti/iv_curves_pdii/data/Mar-05-2024_1302_IvCurves_trim_np04_apa4_ip10.73.137.113\n",
      "time.struct_time(tm_year=2024, tm_mon=3, tm_mday=5, tm_hour=13, tm_min=4, tm_sec=52, tm_wday=1, tm_yday=65, tm_isdst=0)\n"
     ]
    },
    {
     "ename": "FileNotFoundError",
     "evalue": "[Errno 2] No such file or directory: '../data/'",
     "output_type": "error",
     "traceback": [
      "\u001b[0;31m---------------------------------------------------------------------------\u001b[0m",
      "\u001b[0;31mFileNotFoundError\u001b[0m                         Traceback (most recent call last)",
      "Cell \u001b[0;32mIn[3], line 103\u001b[0m\n\u001b[1;32m     98\u001b[0m     apply_trim\u001b[38;5;241m=\u001b[39m[ivtools\u001b[38;5;241m.\u001b[39mCommand(ip, \u001b[38;5;124mf\u001b[39m\u001b[38;5;124m'\u001b[39m\u001b[38;5;124mWR TRIM CH \u001b[39m\u001b[38;5;132;01m{\u001b[39;00mi\u001b[38;5;132;01m}\u001b[39;00m\u001b[38;5;124m V \u001b[39m\u001b[38;5;132;01m{\u001b[39;00m\u001b[38;5;241m0\u001b[39m\u001b[38;5;132;01m}\u001b[39;00m\u001b[38;5;124m'\u001b[39m)\u001b[38;5;28;01mfor\u001b[39;00m i \u001b[38;5;129;01min\u001b[39;00m \u001b[38;5;28mrange\u001b[39m (\u001b[38;5;241m40\u001b[39m)]\n\u001b[1;32m    102\u001b[0m \u001b[38;5;28;01mif\u001b[39;00m \u001b[38;5;18m__name__\u001b[39m \u001b[38;5;241m==\u001b[39m \u001b[38;5;124m\"\u001b[39m\u001b[38;5;124m__main__\u001b[39m\u001b[38;5;124m\"\u001b[39m:\n\u001b[0;32m--> 103\u001b[0m     \u001b[43mmain\u001b[49m\u001b[43m(\u001b[49m\u001b[43msteps\u001b[49m\u001b[38;5;241;43m=\u001b[39;49m\u001b[38;5;241;43m50\u001b[39;49m\u001b[43m,\u001b[49m\u001b[43mip_address\u001b[49m\u001b[38;5;241;43m=\u001b[39;49m\u001b[38;5;124;43m'\u001b[39;49m\u001b[38;5;124;43m10.73.137.113\u001b[39;49m\u001b[38;5;124;43m'\u001b[39;49m\u001b[43m)\u001b[49m\n",
      "Cell \u001b[0;32mIn[3], line 46\u001b[0m, in \u001b[0;36mmain\u001b[0;34m(steps, ip_address)\u001b[0m\n\u001b[1;32m     44\u001b[0m BACKUP_NAME \u001b[38;5;241m=\u001b[39m (\u001b[38;5;124m\"\u001b[39m\u001b[38;5;124mbackup-\u001b[39m\u001b[38;5;124m\"\u001b[39m \u001b[38;5;241m+\u001b[39m timestamp)\n\u001b[1;32m     45\u001b[0m directory \u001b[38;5;241m=\u001b[39m \u001b[38;5;124mf\u001b[39m\u001b[38;5;124m'\u001b[39m\u001b[38;5;132;01m{\u001b[39;00mtimestamp\u001b[38;5;132;01m}\u001b[39;00m\u001b[38;5;124m_IvCurves_trim_np04_apa\u001b[39m\u001b[38;5;132;01m{\u001b[39;00mapa\u001b[38;5;132;01m}\u001b[39;00m\u001b[38;5;124m_ip\u001b[39m\u001b[38;5;132;01m{\u001b[39;00mip\u001b[38;5;132;01m}\u001b[39;00m\u001b[38;5;124m'\u001b[39m\n\u001b[0;32m---> 46\u001b[0m \u001b[43mos\u001b[49m\u001b[38;5;241;43m.\u001b[39;49m\u001b[43mchdir\u001b[49m\u001b[43m(\u001b[49m\u001b[38;5;124;43m'\u001b[39;49m\u001b[38;5;124;43m../data/\u001b[39;49m\u001b[38;5;124;43m'\u001b[39;49m\u001b[43m)\u001b[49m\n\u001b[1;32m     47\u001b[0m os\u001b[38;5;241m.\u001b[39mmkdir(directory)\n\u001b[1;32m     48\u001b[0m os\u001b[38;5;241m.\u001b[39mchdir(directory)\n",
      "\u001b[0;31mFileNotFoundError\u001b[0m: [Errno 2] No such file or directory: '../data/'"
     ]
    }
   ],
   "source": [
    "\"\"\"\n",
    "Simple IV scanner using both the BIAS and TRIM controls in DAPHNE\n",
    "\"\"\"\n",
    "import numpy as np\n",
    "import ivtools\n",
    "import matplotlib.pyplot as plt\n",
    "import time, os, fnmatch, shutil, uproot, click\n",
    "from tqdm import tqdm\n",
    "\n",
    "def main(steps,ip_address):\n",
    "    ip=ip_address\n",
    "\n",
    "    map = {\n",
    "   '10.73.137.104': {'apa': 1, 'fbk': [0, 1, 2, 3, 4, 5, 6, 7],\n",
    "       'hpk': [8, 9, 10, 11, 12, 13, 14, 15],'fbk_value':860,'hpk_value':1360},\n",
    "   '10.73.137.105': {'apa': 1, 'fbk': [0, 1, 2, 3, 4, 5, 6, 7, 8, 10, 13, 15],\n",
    "       'hpk': [17, 19, 20, 22],'fbk_value':890,'hpk_value':1380},\n",
    "   '10.73.137.107': {'apa': 1, 'fbk': [0, 2, 5, 7],\n",
    "       'hpk': [8, 10, 13, 15],'fbk_value':890,'hpk_value':1375},\n",
    "   '10.73.137.109': {'apa': 2, 'fbk': [0, 1, 2, 3, 4, 5, 6, 7, 8, 9, 10, 11, 12, 13, 14, 15],\n",
    "       'hpk': [16, 17, 18, 19, 20, 21, 22, 23, 24, 25, 26, 27, 28, 29, 30, 31, 32,\n",
    "           33, 34, 35, 36, 37, 38, 39],'fbk_value':890,'hpk_value':1385},\n",
    "   '10.73.137.111': {'apa': 3, 'fbk': [0, 1, 2, 3, 4, 5, 6, 7, 8, 9, 10, 11, 12, 13, 14, 15,\n",
    "       16, 17, 18, 19, 20, 21, 22, 23],\n",
    "       'hpk': [24, 25, 26, 27, 28, 29, 30, 31, 32, 33, 34, 35, 36, 37, 38, 39],\n",
    "       'fbk_value':885,'hpk_value':1390},\n",
    "   '10.73.137.112': {'apa': 4, 'fbk': [],\n",
    "       'hpk': [0, 1, 2, 3, 4, 5, 6, 7, 8, 9, 10, 11, 12, 13, 14, 15, 16, 17, 18,\n",
    "           19, 20, 21, 22, 23, 24, 25, 26, 27, 28, 29, 30, 31, 32, 34, 37, 39],\n",
    "       'fbk_value':0,'hpk_value':1380},\n",
    "   '10.73.137.113': {'apa': 4, 'fbk': [0], 'hpk': [],'fbk_value':890,'hpk_value':0},\n",
    "}\n",
    "\n",
    "    apa = map[ip_address]['apa']\n",
    "    fbk = map[ip_address]['fbk']\n",
    "    hpk = map[ip_address]['hpk']\n",
    "    fbk_value = map[ip_address]['fbk_value']\n",
    "    hpk_value = map[ip_address]['hpk_value']\n",
    "\n",
    "    print(os.getcwd())\n",
    "    print(time.localtime())\n",
    "    t = time.localtime()\n",
    "    timestamp = time.strftime('%b-%d-%Y_%H%M', t)\n",
    "    BACKUP_NAME = (\"backup-\" + timestamp)\n",
    "    directory = f'{timestamp}_IvCurves_trim_np04_apa{apa}_ip{ip}'\n",
    "    #os.chdir('../data/')\n",
    "    os.mkdir(directory)\n",
    "    os.chdir(directory)\n",
    "    \n",
    "    disable_bias=ivtools.Command(ip, f'WR VBIASCTRL V {0}')\n",
    "    set_bias=[ivtools.Command(ip, f'WR BIASSET AFE {i} V {0}') for i in range (5)] \n",
    "    apply_trim=[ivtools.Command(ip, f'WR TRIM CH {i} V {0}')for i in range (40)]\n",
    "    enable_bias=ivtools.Command(ip, f'WR VBIASCTRL V {4000}')\n",
    "    for ch in fbk + hpk:\n",
    "        breakd_v=[]\n",
    "        dac_trim=[]\n",
    "        dac_bias=[]\n",
    "        evl_bias=[]\n",
    "        ecurrent=[]\n",
    "        bias_value = hpk_value if ch in hpk else fbk_value\n",
    "        set_bias=[ivtools.Command(ip, f'WR BIASSET AFE {ch//8} V {bias_value}')]\n",
    "        #init_timestamp = time.strftime('%b-%d-%Y_%H%M', time.localtime())\n",
    "        for v in tqdm(range(0, 4095, steps), desc=f\"Taking ch_{ch}...\"):\n",
    "            apply_trim_cmd = ivtools.Command(ip, f'WR TRIM CH {ch} V {v}')\n",
    "            k = ivtools.ReadCurrent(ip, ch=ch)\n",
    "            ecurrent.append(k.current)\n",
    "            dac_trim.append(v)\n",
    "        #end_timestamp = time.strftime('%b-%d-%Y_%H%M', time.localtime())\n",
    "        x=np.add(ecurrent,np.average(ecurrent[-50:]))\n",
    "        f=np.add(np.log(x),0)\n",
    "        fpp=np.multiply((np.multiply(np.gradient(f),1/f)),-1)\n",
    "        #fpp=np.gradient(ecurrent)\n",
    "        breakd_v=[dac_trim[np.argmax(fpp)]]\n",
    "        name = f'apa_{apa}_afe_{ch//8}_ch_{ch}'\n",
    "        f = uproot.recreate(name + '.root')\n",
    "        f[\"tree/IV\"] = ({'current': np.array(ecurrent),'trim': np.array(dac_trim)})\n",
    "        f[\"tree/BDV\"] = ({'breakdown_voltage': breakd_v\n",
    "        #   ,'init_ts':init_timestamp,'end_ts':end_timestamp\n",
    "            })\n",
    "\n",
    "        # Plotting code\n",
    "        plt.figure()\n",
    "        plt.plot(dac_trim, ecurrent, '.', linewidth=1, markersize=1, \n",
    "                 label=f'ch{ch}: BIAS {fbk_value if ch in fbk else hpk_value}, Trim {dac_trim[np.argmax(fpp)]}')\n",
    "        plt.plot(dac_trim, fpp, '.', linewidth=1, markersize=1, color='r')\n",
    "        plt.title(f'IV curve for APA {apa} AFE {ch//8} and ch {ch}')\n",
    "        plt.xlabel('V DAC counts')\n",
    "        plt.ylabel('Ln(I) U.A.')\n",
    "        #plt.yscale('log')\n",
    "        # plt.ylim([-0.5, 6])\n",
    "        plt.gca().invert_xaxis()\n",
    "        plt.legend(loc='upper left')\n",
    "        # plt.show()\n",
    "        plt.savefig(f'IVCurve_ch_{ch}.svg', bbox_extra_artists=(), bbox_inches='tight')\n",
    "\n",
    "    disable_bias=ivtools.Command(ip, f'WR VBIASCTRL V {0}')\n",
    "    set_bias=[ivtools.Command(ip, f'WR BIASSET AFE {i} V {0}') for i in range (5)] \n",
    "    apply_trim=[ivtools.Command(ip, f'WR TRIM CH {i} V {0}')for i in range (40)]\n",
    "\n",
    "\n",
    "                  \n",
    "if __name__ == \"__main__\":\n",
    "    main(steps=50,ip_address='10.73.137.113')\n"
   ]
  },
  {
   "cell_type": "code",
   "execution_count": null,
   "id": "94212369-8c59-4475-8b74-9860e683b601",
   "metadata": {},
   "outputs": [],
   "source": []
  }
 ],
 "metadata": {
  "kernelspec": {
   "display_name": "Python 3 (ipykernel)",
   "language": "python",
   "name": "python3"
  },
  "language_info": {
   "codemirror_mode": {
    "name": "ipython",
    "version": 3
   },
   "file_extension": ".py",
   "mimetype": "text/x-python",
   "name": "python",
   "nbconvert_exporter": "python",
   "pygments_lexer": "ipython3",
   "version": "3.10.4"
  }
 },
 "nbformat": 4,
 "nbformat_minor": 5
}
